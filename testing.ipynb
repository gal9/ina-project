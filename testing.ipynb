{
 "cells": [
  {
   "cell_type": "code",
   "execution_count": null,
   "metadata": {},
   "outputs": [],
   "source": [
    "# Data wrangling\n",
    "import numpy as np\n",
    "import pandas as pd  # Not a requirement of giotto-tda, but is compatible with the gtda.mapper module\n",
    "import os\n",
    "import open3d as o3d\n",
    "\n",
    "# Data viz\n",
    "from gtda.plotting import plot_point_cloud\n",
    "from gtda.plotting import plot_diagram\n",
    "\n",
    "# TDA magic\n",
    "from gtda.homology import VietorisRipsPersistence\n",
    "from gtda.mapper import (\n",
    "    CubicalCover,\n",
    "    make_mapper_pipeline,\n",
    "    Projection,\n",
    "    plot_static_mapper_graph,\n",
    "    plot_interactive_mapper_graph,\n",
    "    MapperInteractivePlotter\n",
    ")\n",
    "\n",
    "# ML tools\n",
    "from sklearn import datasets\n",
    "from sklearn.cluster import DBSCAN\n",
    "from sklearn.decomposition import PCA\n",
    "\n",
    "from src.adapter import mapper_to_networkx"
   ]
  },
  {
   "cell_type": "code",
   "execution_count": null,
   "metadata": {},
   "outputs": [],
   "source": [
    "def get_ply_files(folder):\n",
    "    files = list(filter(lambda file: file.split('.')[-1]=='ply', os.listdir(folder)))\n",
    "    files = list(map(lambda file: os.path.join(folder, file),files))\n",
    "    return files\n",
    "\n",
    "ply_files  = get_ply_files('data/tablesPly')\n",
    "ply_files += get_ply_files('data/chairsPly')\n",
    "ply_files += get_ply_files('data/octopusPly')\n",
    "ply_files += get_ply_files('data/spidersPly')\n",
    "\n",
    "labels, index = np.zeros(len(ply_files)), len(os.listdir('data/tablesPly')), \n",
    "index2 = index + len(os.listdir('data/chairsPly'))\n",
    "labels[index:index2] = 1\n",
    "index, index2 = index2, index2 + len(os.listdir('data/octopusPly'))\n",
    "labels[index:index2] = 2\n",
    "labels[index2:] = 3"
   ]
  },
  {
   "cell_type": "code",
   "execution_count": null,
   "metadata": {},
   "outputs": [],
   "source": [
    "#filter_func = Projection(columns=[0,1,2])\n",
    "filter_func = PCA(n_components=2)\n",
    "\n",
    "cover = CubicalCover(n_intervals=4, overlap_frac=0.08)\n",
    "#cover = OneDimensionalCover(kind='uniform', n_intervals=10, overlap_frac=0.1)\n",
    "\n",
    "clusterer = DBSCAN(eps=10, metric=\"chebyshev\")\n",
    "\n",
    "n_jobs = 1\n",
    "\n",
    "pipe = make_mapper_pipeline(\n",
    "    filter_func=filter_func,\n",
    "    cover=cover,\n",
    "    clusterer=clusterer,\n",
    "    verbose=False,\n",
    "    n_jobs=n_jobs,\n",
    ")"
   ]
  },
  {
   "cell_type": "code",
   "execution_count": null,
   "metadata": {},
   "outputs": [],
   "source": [
    "pcd = [o3d.io.read_point_cloud(file) for file in ply_files]\n",
    "pcd = [np.asarray(pc.points) for pc in pcd]"
   ]
  },
  {
   "cell_type": "code",
   "execution_count": null,
   "metadata": {},
   "outputs": [],
   "source": [
    "from src.feature_vectors import create_feature_vector\n",
    "entropy_fv, fv = create_feature_vector(pcd[0], pipe, persistence)"
   ]
  },
  {
   "cell_type": "code",
   "execution_count": null,
   "metadata": {},
   "outputs": [],
   "source": [
    "fig = plot_static_mapper_graph(pipe, pcd[1])\n",
    "fig.show(config={'scrollZoom': True})\n",
    "graph = pipe.fit_transform(pcd[1])\n",
    "\n",
    "graphnx = mapper_to_networkx(graph)"
   ]
  },
  {
   "cell_type": "code",
   "execution_count": null,
   "metadata": {},
   "outputs": [],
   "source": [
    "import networkx as nx\n",
    "\n",
    "nx.draw(graphnx)"
   ]
  },
  {
   "cell_type": "code",
   "execution_count": null,
   "metadata": {},
   "outputs": [],
   "source": [
    "figures = [plot_static_mapper_graph(pipe, pc) for pc in pcd]\n",
    "\n",
    "# Track connected components, loops, and voids\n",
    "homology_dimensions = [0, 1, 2]\n",
    "\n",
    "# Collapse edges to speed up H2 persistence calculation!\n",
    "persistence = VietorisRipsPersistence(\n",
    "    metric=\"euclidean\",\n",
    "    homology_dimensions=homology_dimensions,\n",
    "    n_jobs=6,\n",
    "    collapse_edges=True,\n",
    ")\n",
    "\n",
    "results = []\n",
    "for fig in figures:\n",
    "    mapped_points = np.array(list(x for x in zip(fig.data[1].x, fig.data[1].y) if None not in x))\n",
    "    diagram = persistence.fit_transform(mapped_points[None, :, :])\n",
    "    results.append(diagram[0])\n",
    "\n",
    "from sklearn.ensemble import RandomForestClassifier\n",
    "from gtda.diagrams import Amplitude, PersistenceEntropy\n",
    "entropy_results = np.array([PersistenceEntropy().fit_transform(r[None,:,:])[0] for r in results])\n",
    "amplitude_w_results = np.array([Amplitude(metric='wasserstein').fit_transform(r[None, :, :])[0] for r in results])\n",
    "amplitude_b_results = np.array([Amplitude(metric='bottleneck').fit_transform(r[None, :, :])[0] for r in results])\n",
    "print(amplitude_w_results)"
   ]
  }
 ],
 "metadata": {
  "interpreter": {
   "hash": "a1faa2b89841f2d81216e2b69e9280f066c9505dc0dde4939c230224824eed47"
  },
  "kernelspec": {
   "display_name": "Python 3.8.13",
   "language": "python",
   "name": "python3"
  },
  "language_info": {
   "codemirror_mode": {
    "name": "ipython",
    "version": 3
   },
   "file_extension": ".py",
   "mimetype": "text/x-python",
   "name": "python",
   "nbconvert_exporter": "python",
   "pygments_lexer": "ipython3",
   "version": "3.8.13"
  },
  "orig_nbformat": 4
 },
 "nbformat": 4,
 "nbformat_minor": 2
}
