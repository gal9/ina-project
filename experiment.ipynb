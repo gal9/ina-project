{
 "cells": [
  {
   "cell_type": "markdown",
   "metadata": {},
   "source": [
    "# Importing"
   ]
  },
  {
   "cell_type": "code",
   "execution_count": 8,
   "metadata": {},
   "outputs": [],
   "source": [
    "# Data wrangling\n",
    "import numpy as np\n",
    "import pandas as pd  # Not a requirement of giotto-tda, but is compatible with the gtda.mapper module\n",
    "import os\n",
    "import time\n",
    "import itertools\n",
    "import open3d as o3d\n",
    "\n",
    "# Data viz\n",
    "from gtda.plotting import plot_point_cloud\n",
    "from gtda.plotting import plot_diagram\n",
    "\n",
    "# TDA magic\n",
    "from gtda.homology import VietorisRipsPersistence\n",
    "from gtda.mapper import (\n",
    "    CubicalCover,\n",
    "    make_mapper_pipeline,\n",
    "    Projection,\n",
    "    plot_static_mapper_graph,\n",
    "    plot_interactive_mapper_graph,\n",
    "    MapperInteractivePlotter\n",
    ")\n",
    "\n",
    "# ML tools\n",
    "from sklearn import datasets\n",
    "from sklearn.cluster import DBSCAN\n",
    "from sklearn.decomposition import PCA\n",
    "\n",
    "from src.feature_vectors import create_feature_vector\n",
    "from sklearn.model_selection import train_test_split"
   ]
  },
  {
   "cell_type": "markdown",
   "metadata": {},
   "source": [
    "# Prepare cloud points"
   ]
  },
  {
   "cell_type": "code",
   "execution_count": 65,
   "metadata": {},
   "outputs": [],
   "source": [
    "def get_ply_files(folder):\n",
    "    files = list(filter(lambda file: file.split('.')[-1]=='ply', os.listdir(folder)))\n",
    "    files = list(map(lambda file: os.path.join(folder, file),files))\n",
    "    return files\n",
    "\n",
    "ply_files  = get_ply_files('data/tablesPly')\n",
    "ply_files += get_ply_files('data/chairsPly')\n",
    "ply_files += get_ply_files('data/octopusPly')\n",
    "ply_files += get_ply_files('data/spidersPly')\n",
    "\n",
    "# if (k == None) label each group differently \n",
    "# else label files in group k with True and others with False\n",
    "def label_groups(files, k):\n",
    "    group_sizes = [len([f for f in os.listdir('data/'+file) if f[-3:]=='ply']) for file in files]\n",
    "    if k:\n",
    "        group_sizes = [sum(group_sizes[:k]), group_sizes[k], sum(group_sizes[k+1:])]\n",
    "        \n",
    "    labels, index = np.zeros(sum(group_sizes)), 0\n",
    "    for i, index2 in enumerate(group_sizes):\n",
    "        index2 += index\n",
    "        labels[index:index2] = i if not k else k == i\n",
    "        index = index2\n",
    "        \n",
    "    return labels\n",
    "    \n",
    "files = ['tablesPly','chairsPly', 'octopusPly', 'spidersPly']\n",
    "labels = label_groups(files, 1)\n",
    "\n",
    "pcd = [o3d.io.read_point_cloud(file) for file in ply_files]\n",
    "pcd = [np.asarray(pc.points) for pc in pcd]"
   ]
  },
  {
   "cell_type": "markdown",
   "metadata": {},
   "source": [
    "## Persistance and pipe"
   ]
  },
  {
   "cell_type": "code",
   "execution_count": 30,
   "metadata": {},
   "outputs": [],
   "source": [
    "# Track connected components, loops, and voids\n",
    "homology_dimensions = [0, 1, 2]\n",
    "\n",
    "# Collapse edges to speed up H2 persistence calculation!\n",
    "persistence = VietorisRipsPersistence(\n",
    "    metric=\"euclidean\",\n",
    "    homology_dimensions=homology_dimensions,\n",
    "    n_jobs=6,\n",
    "    collapse_edges=True,\n",
    ")\n",
    "\n",
    "#filter_func = Projection(columns=[0,1,2])\n",
    "filter_func = PCA(n_components=2)\n",
    "\n",
    "cover = CubicalCover(n_intervals=4, overlap_frac=0.08)\n",
    "#cover = OneDimensionalCover(kind='uniform', n_intervals=10, overlap_frac=0.1)\n",
    "\n",
    "clusterer = DBSCAN(eps=10, metric=\"chebyshev\")\n",
    "\n",
    "n_jobs = 1\n",
    "\n",
    "pipe = make_mapper_pipeline(\n",
    "    filter_func=filter_func,\n",
    "    cover=cover,\n",
    "    clusterer=clusterer,\n",
    "    verbose=False,\n",
    "    n_jobs=n_jobs,\n",
    ")"
   ]
  },
  {
   "cell_type": "markdown",
   "metadata": {},
   "source": [
    "# Feature vector creation"
   ]
  },
  {
   "cell_type": "code",
   "execution_count": 47,
   "metadata": {},
   "outputs": [
    {
     "name": "stdout",
     "output_type": "stream",
     "text": [
      " 99%Time to compute create feature vectors: 102.70908212661743 s\n"
     ]
    }
   ],
   "source": [
    "entropy_feature_vectors = []\n",
    "feature_vectors = []\n",
    "start = time.time()\n",
    "for i, pc in enumerate(pcd):\n",
    "    print('\\r', f\"{int((i/len(pcd))*100)}%\", end=\"\")\n",
    "    e_fv, fv = create_feature_vector(pc, pipe, persistence)\n",
    "\n",
    "    entropy_feature_vectors.append(e_fv)\n",
    "    feature_vectors.append(fv)\n",
    "end = time.time()\n",
    "print(\"Time to compute create feature vectors:\", end - start, \"s\")"
   ]
  },
  {
   "cell_type": "code",
   "execution_count": null,
   "metadata": {},
   "outputs": [],
   "source": [
    "len(pcd), feature_vectors"
   ]
  },
  {
   "cell_type": "markdown",
   "metadata": {},
   "source": [
    "## With homologies"
   ]
  },
  {
   "cell_type": "code",
   "execution_count": 68,
   "metadata": {},
   "outputs": [],
   "source": [
    "num_features = len(feature_vectors[0])\n",
    "# We take one homology and up to three other features\n",
    "\n",
    "for homology_idx in range(3):\n",
    "    final_fvs = []\n",
    "    \n",
    "    # First add homology and nothing else\n",
    "    for entropy_fv in entropy_feature_vectors:\n",
    "        final_fvs.append(entropy_fv[homology_idx])\n",
    "\n",
    "    # TODO add train and test\n",
    "\n",
    "    for number_of_additional_features in range(1,4):\n",
    "        combinations = list(itertools.combinations(range(num_features), number_of_additional_features))\n",
    "\n",
    "        # Loop through all posible feature subsets of size\n",
    "        for combination in combinations:\n",
    "            # print(combination)\n",
    "            final_fvs = []\n",
    "            # First add homology and a certain number of features\n",
    "            for fv_idx, entropy_fv in enumerate(entropy_feature_vectors):\n",
    "                extracted_fv = [x for x in entropy_fv[homology_idx]]\n",
    "\n",
    "                extracted_fv += [feature_vectors[fv_idx][i] for i in combination]\n",
    "\n",
    "                final_fvs.append(extracted_fv)\n",
    "\n",
    "            # TODO add train and test\n",
    "\n",
    "            # print(final_fvs)\n"
   ]
  },
  {
   "cell_type": "code",
   "execution_count": 69,
   "metadata": {},
   "outputs": [
    {
     "data": {
      "text/plain": [
       "0.8235"
      ]
     },
     "execution_count": 69,
     "metadata": {},
     "output_type": "execute_result"
    }
   ],
   "source": [
    "X_train, X_test, y_train, y_test = train_test_split(final_fvs, labels, test_size=0.33, random_state=42)\n",
    "\n",
    "from sklearn import svm\n",
    "\n",
    "SVM = svm.LinearSVC()\n",
    "SVM.fit(X_train, y_train)\n",
    "SVM.predict(X_test)\n",
    "round(SVM.score(X_test,y_test), 4)"
   ]
  },
  {
   "cell_type": "markdown",
   "metadata": {},
   "source": [
    "## Without homologies"
   ]
  },
  {
   "cell_type": "code",
   "execution_count": 70,
   "metadata": {},
   "outputs": [],
   "source": [
    "for number_of_additional_features in range(1,4):\n",
    "    combinations = list(itertools.combinations(range(num_features), number_of_additional_features))\n",
    "\n",
    "    # Loop through all posible feature subsets of size\n",
    "    for combination in combinations:\n",
    "        # print(combination)\n",
    "        final_fvs = []\n",
    "        # First add homology and a certain number of features\n",
    "        for fv_idx, fv in enumerate(feature_vectors):\n",
    "            extracted_fv = [fv[i] for i in combination]\n",
    "\n",
    "            final_fvs.append(extracted_fv)\n",
    "\n",
    "        # TODO add train and test\n",
    "\n",
    "        # print(final_fvs)\n"
   ]
  },
  {
   "cell_type": "code",
   "execution_count": 71,
   "metadata": {},
   "outputs": [
    {
     "data": {
      "text/plain": [
       "0.6765"
      ]
     },
     "execution_count": 71,
     "metadata": {},
     "output_type": "execute_result"
    }
   ],
   "source": [
    "X_train, X_test, y_train, y_test = train_test_split(final_fvs, labels, test_size=0.33, random_state=42)\n",
    "\n",
    "from sklearn import svm\n",
    "\n",
    "SVM = svm.LinearSVC()\n",
    "SVM.fit(X_train, y_train)\n",
    "SVM.predict(X_test)\n",
    "round(SVM.score(X_test,y_test), 4)"
   ]
  },
  {
   "cell_type": "code",
   "execution_count": null,
   "metadata": {},
   "outputs": [],
   "source": []
  }
 ],
 "metadata": {
  "interpreter": {
   "hash": "a1faa2b89841f2d81216e2b69e9280f066c9505dc0dde4939c230224824eed47"
  },
  "kernelspec": {
   "display_name": "Python 3 (ipykernel)",
   "language": "python",
   "name": "python3"
  },
  "language_info": {
   "codemirror_mode": {
    "name": "ipython",
    "version": 3
   },
   "file_extension": ".py",
   "mimetype": "text/x-python",
   "name": "python",
   "nbconvert_exporter": "python",
   "pygments_lexer": "ipython3",
   "version": "3.8.3"
  }
 },
 "nbformat": 4,
 "nbformat_minor": 4
}
