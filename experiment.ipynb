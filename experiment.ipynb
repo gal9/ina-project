{
 "cells": [
  {
   "cell_type": "markdown",
   "metadata": {},
   "source": [
    "# Importing"
   ]
  },
  {
   "cell_type": "code",
   "execution_count": 1,
   "metadata": {},
   "outputs": [
    {
     "name": "stdout",
     "output_type": "stream",
     "text": [
      "Jupyter environment detected. Enabling Open3D WebVisualizer.\n",
      "[Open3D INFO] WebRTC GUI backend enabled.\n",
      "[Open3D INFO] WebRTCWindowSystem: HTTP handshake server disabled.\n"
     ]
    }
   ],
   "source": [
    "# Data wrangling\n",
    "import numpy as np\n",
    "import pandas as pd  # Not a requirement of giotto-tda, but is compatible with the gtda.mapper module\n",
    "import os\n",
    "import time\n",
    "import itertools\n",
    "import open3d as o3d\n",
    "\n",
    "# Data viz\n",
    "from gtda.plotting import plot_point_cloud\n",
    "from gtda.plotting import plot_diagram\n",
    "\n",
    "# TDA magic\n",
    "from gtda.homology import VietorisRipsPersistence\n",
    "from gtda.mapper import (\n",
    "    CubicalCover,\n",
    "    OneDimensionalCover,\n",
    "    make_mapper_pipeline,\n",
    "    Projection,\n",
    "    plot_static_mapper_graph,\n",
    "    plot_interactive_mapper_graph,\n",
    "    MapperInteractivePlotter\n",
    ")\n",
    "\n",
    "# ML tools\n",
    "from sklearn.cluster import DBSCAN\n",
    "from sklearn.decomposition import PCA\n",
    "from umap import UMAP\n",
    "from sklearn.model_selection import train_test_split\n",
    "from sklearn.model_selection import cross_val_score, cross_val_predict\n",
    "from sklearn import svm\n",
    "from src.feature_vectors import create_feature_vector"
   ]
  },
  {
   "cell_type": "markdown",
   "metadata": {},
   "source": [
    "# Prepare cloud points"
   ]
  },
  {
   "cell_type": "code",
   "execution_count": 2,
   "metadata": {},
   "outputs": [
    {
     "name": "stdout",
     "output_type": "stream",
     "text": [
      "Majority class classifier accuracy: 0.782\n"
     ]
    }
   ],
   "source": [
    "def get_ply_files(folder):\n",
    "    files = list(filter(lambda file: file.split('.')[-1]=='ply', os.listdir(folder)))\n",
    "    files = list(map(lambda file: os.path.join(folder, file),files))\n",
    "    return files\n",
    "\n",
    "ply_files  = get_ply_files('data/tablesPly')\n",
    "ply_files += get_ply_files('data/chairsPly')\n",
    "ply_files += get_ply_files('data/octopusPly')\n",
    "ply_files += get_ply_files('data/spidersPly')\n",
    "\n",
    "# label files in group k with 1 and others with 0\n",
    "def label_groups(files, k):\n",
    "    group_sizes = [len([f for f in os.listdir('data/'+file) if f[-3:]=='ply']) for file in files]\n",
    "    group_sizes = [sum(group_sizes[:k]), group_sizes[k], sum(group_sizes[k+1:])]\n",
    "    labels = np.zeros(sum(group_sizes))\n",
    "    labels[group_sizes[0]:group_sizes[0]+group_sizes[1]] = 1        \n",
    "    return labels\n",
    "    \n",
    "files = ['tablesPly','chairsPly', 'octopusPly', 'spidersPly']\n",
    "labels = label_groups(files, 0)\n",
    "majority_classifier = (1 - sum(labels)/len(labels))\n",
    "print(\"Majority class classifier accuracy: %.3f\" % majority_classifier)\n",
    "\n",
    "pcd = [o3d.io.read_point_cloud(file) for file in ply_files]\n",
    "pcd = [np.asarray(pc.points) for pc in pcd]"
   ]
  },
  {
   "cell_type": "code",
   "execution_count": 3,
   "metadata": {},
   "outputs": [],
   "source": [
    "# shuffle data for more accurate results\n",
    "shuffle_index = np.random.permutation(np.arange(0, len(labels)))\n",
    "labels = np.array(labels)\n",
    "pcd = np.array(pcd, dtype=object)\n",
    "labels = labels[shuffle_index]\n",
    "pcd = pcd[shuffle_index]"
   ]
  },
  {
   "cell_type": "markdown",
   "metadata": {},
   "source": [
    "## Persistance and pipe"
   ]
  },
  {
   "cell_type": "code",
   "execution_count": 4,
   "metadata": {},
   "outputs": [],
   "source": [
    "# Track connected components, loops, and voids\n",
    "homology_dimensions = [0, 1, 2]\n",
    "\n",
    "# Collapse edges to speed up H2 persistence calculation!\n",
    "persistence = VietorisRipsPersistence(\n",
    "    metric=\"euclidean\",\n",
    "    homology_dimensions=homology_dimensions,\n",
    "    n_jobs=6,\n",
    "    collapse_edges=True,\n",
    ")\n",
    "\n",
    "filter_func = Projection(columns=[0,1,2])\n",
    "# filter_func = PCA(n_components=2)\n",
    "# filter_func = UMAP(n_neighbors=5)\n",
    "\n",
    "cover = CubicalCover(n_intervals=4, overlap_frac=0.08)\n",
    "# cover = OneDimensionalCover(kind='uniform', n_intervals=10, overlap_frac=0.1)\n",
    "\n",
    "clusterer = DBSCAN(eps=10, metric=\"chebyshev\")\n",
    "\n",
    "n_jobs = 1\n",
    "\n",
    "pipe = make_mapper_pipeline(\n",
    "    filter_func=filter_func,\n",
    "    cover=cover,\n",
    "    clusterer=clusterer,\n",
    "    verbose=False,\n",
    "    n_jobs=n_jobs,\n",
    ")"
   ]
  },
  {
   "cell_type": "markdown",
   "metadata": {},
   "source": [
    "# Feature vector creation"
   ]
  },
  {
   "cell_type": "code",
   "execution_count": 5,
   "metadata": {},
   "outputs": [
    {
     "name": "stdout",
     "output_type": "stream",
     "text": [
      " 99%Time to compute create feature vectors: 105.25750613212585 s\n"
     ]
    }
   ],
   "source": [
    "entropy_feature_vectors = []\n",
    "feature_vectors = []\n",
    "start = time.time()\n",
    "for i, pc in enumerate(pcd):\n",
    "    print('\\r', f\"{int((i/len(pcd))*100)}%\", end=\"\")\n",
    "    e_fv, fv = create_feature_vector(pc, pipe, persistence)\n",
    "\n",
    "    entropy_feature_vectors.append(e_fv)\n",
    "    feature_vectors.append(fv)\n",
    "end = time.time()\n",
    "print(\"Time to compute create feature vectors:\", end - start, \"s\")"
   ]
  },
  {
   "cell_type": "code",
   "execution_count": 6,
   "metadata": {},
   "outputs": [
    {
     "data": {
      "text/plain": [
       "(101,\n",
       " [[12, 5.8, 0.14871794871794872, 0.5082351839337134],\n",
       "  [5, 7.1692307692307695, 0.11201923076923077, 0.7345892259681257],\n",
       "  [28, 2.3, 0.05897435897435897, 0.11000000000000001],\n",
       "  [6, 6.093023255813954, 0.14507198228128462, 0.7142752935898592],\n",
       "  [9, 1.024390243902439, 0.025609756097560978, 0.0],\n",
       "  [6, 6.136363636363637, 0.1427061310782241, 0.7351168103560449],\n",
       "  [4, 4.722222222222222, 0.1349206349206349, 0.47707231040564363],\n",
       "  [1, 7.62962962962963, 0.14395527603074773, 0.7492862151663621],\n",
       "  [5, 6.088888888888889, 0.1383838383838384, 0.7211581011581012],\n",
       "  [12, 5.121951219512195, 0.12804878048780488, 0.5594235033259424],\n",
       "  [0, 4.3, 0.11025641025641025, 0.8057142857142857],\n",
       "  [7, 0.926829268292683, 0.023170731707317073, 0.0],\n",
       "  [11, 5.590909090909091, 0.13002114164904863, 0.5843038274856458],\n",
       "  [10, 6.226415094339623, 0.11973875181422351, 0.6391851550841561],\n",
       "  [5, 6.325581395348837, 0.150609080841639, 0.7345503741464574],\n",
       "  [3, 6.594594594594595, 0.1831831831831832, 0.6158233658233658],\n",
       "  [6, 4.375, 0.14112903225806453, 0.542857142857143],\n",
       "  [3, 8.975609756097562, 0.22439024390243906, 0.5944550029915885],\n",
       "  [10, 3.9411764705882355, 0.11942959001782531, 0.4445378151260504],\n",
       "  [12, 2.4680851063829787, 0.05365402405180388, 0.3422492401215806],\n",
       "  [5, 6.533333333333333, 0.14848484848484847, 0.7084489947235045],\n",
       "  [10, 3.142857142857143, 0.1164021164021164, 0.3714285714285714],\n",
       "  [12, 3.857142857142857, 0.14285714285714285, 0.3040816326530612],\n",
       "  [4, 4.4375, 0.1431451612903226, 0.4321428571428572],\n",
       "  [12, 3.55, 0.09102564102564102, 0.4730952380952382],\n",
       "  [3, 7.449275362318841, 0.10954816709292413, 0.7204315114498183],\n",
       "  [9, 5.636363636363637, 0.17613636363636365, 0.5601837556383011],\n",
       "  [9, 6.32, 0.12897959183673469, 0.6931696531882292],\n",
       "  [6, 4.588235294117647, 0.13903743315508021, 0.5050420168067227],\n",
       "  [8, 6.933333333333334, 0.1575757575757576, 0.7419642410870481],\n",
       "  [13, 4.111111111111111, 0.11746031746031745, 0.5764550264550264],\n",
       "  [11, 5.142857142857143, 0.1254355400696864, 0.5478440871298016],\n",
       "  [0, 8.793103448275861, 0.15426497277676948, 0.7583519928347519],\n",
       "  [10, 6.133333333333334, 0.1393939393939394, 0.5862707046040381],\n",
       "  [4, 7.283018867924528, 0.14005805515239478, 0.6965649284739186],\n",
       "  [8, 4.4324324324324325, 0.12312312312312312, 0.5220974220974222],\n",
       "  [9, 2.1470588235294117, 0.03204565408252853, 0.28970588235294115],\n",
       "  [4, 5.621621621621622, 0.15615615615615616, 0.5872450372450374],\n",
       "  [12, 3.857142857142857, 0.14285714285714285, 0.3469387755102041],\n",
       "  [12, 3.857142857142857, 0.14285714285714285, 0.3040816326530612],\n",
       "  [4, 7.170731707317073, 0.17926829268292682, 0.7424579485555097],\n",
       "  [12, 3.857142857142857, 0.14285714285714285, 0.3040816326530612],\n",
       "  [8, 6.133333333333334, 0.1393939393939394, 0.6682926231739442],\n",
       "  [0, 9.0, 0.14285714285714285, 0.7619893127705629],\n",
       "  [14, 5.125, 0.10904255319148937, 0.5043994200244203],\n",
       "  [8, 4.375, 0.14112903225806453, 0.4916666666666666],\n",
       "  [8, 3.5, 0.08139534883720931, 0.4681818181818182],\n",
       "  [2, 5.2, 0.1793103448275862, 0.5647619047619048],\n",
       "  [13, 6.0, 0.10526315789473684, 0.6098438973692524],\n",
       "  [4, 6.3428571428571425, 0.1865546218487395, 0.5825317539603253],\n",
       "  [6, 6.45, 0.16538461538461538, 0.5793722943722944],\n",
       "  [0, 7.3, 0.18717948717948718, 0.7180303030303031],\n",
       "  [6, 6.038461538461538, 0.11840120663650075, 0.7000805755330644],\n",
       "  [6, 5.818181818181818, 0.13530655391120508, 0.639024990161354],\n",
       "  [5, 6.780487804878049, 0.1695121951219512, 0.605546486034291],\n",
       "  [5, 5.4, 0.18620689655172415, 0.6392207792207792],\n",
       "  [12, 6.238095238095238, 0.1521486643437863, 0.5460420298655593],\n",
       "  [9, 2.923076923076923, 0.07692307692307691, 0.443040293040293],\n",
       "  [7, 6.564102564102564, 0.17273954116059378, 0.5760244113185291],\n",
       "  [10, 5.846153846153846, 0.11463046757164404, 0.4948854564239181],\n",
       "  [5, 5.45945945945946, 0.15165165165165165, 0.6738243738243739],\n",
       "  [11, 4.459016393442623, 0.07431693989071038, 0.6530054644808745],\n",
       "  [13, 5.076923076923077, 0.13360323886639675, 0.4334366488212642],\n",
       "  [4, 9.65, 0.24743589743589745, 0.5520187165775402],\n",
       "  [6, 4.375, 0.14112903225806453, 0.542857142857143],\n",
       "  [6, 6.594594594594595, 0.1831831831831832, 0.6874455795508427],\n",
       "  [4, 4.611111111111111, 0.13174603174603172, 0.4828042328042328],\n",
       "  [0, 8.0, 0.21052631578947367, 0.7392278075535995],\n",
       "  [8, 2.9, 0.07435897435897436, 0.22285714285714292],\n",
       "  [0, 9.434782608695652, 0.20966183574879227, 0.6860211399853349],\n",
       "  [4, 7.518518518518518, 0.1418588399720475, 0.7316465941465943],\n",
       "  [0, 2.7, 0.06923076923076923, 0.2628571428571428],\n",
       "  [7, 7.304347826086956, 0.16231884057971013, 0.660928322884845],\n",
       "  [2, 6.903225806451613, 0.23010752688172043, 0.6768159102124947],\n",
       "  [3, 6.222222222222222, 0.17777777777777778, 0.5409066242399575],\n",
       "  [5, 2.7037037037037037, 0.05101327742837177, 0.4133744855967078],\n",
       "  [10, 5.625, 0.1196808510638298, 0.5598556718622508],\n",
       "  [2, 9.304347826086957, 0.20676328502415459, 0.6808447945915981],\n",
       "  [0, 5.1, 0.13076923076923075, 0.6685714285714286],\n",
       "  [2, 6.0588235294117645, 0.1836007130124777, 0.6459192768016297],\n",
       "  [10, 5.0285714285714285, 0.14789915966386555, 0.5645585367013938],\n",
       "  [4, 3.5714285714285716, 0.1322751322751323, 0.3469387755102041],\n",
       "  [8, 6.142857142857143, 0.14982578397212545, 0.717821091140419],\n",
       "  [4, 8.584615384615384, 0.13413461538461538, 0.7312290811031713],\n",
       "  [6, 5.956521739130435, 0.1323671497584541, 0.7003623188405799],\n",
       "  [3, 7.365853658536586, 0.18414634146341463, 0.7660471443111327],\n",
       "  [18, 3.9130434782608696, 0.08695652173913043, 0.368944099378882],\n",
       "  [0, 6.416666666666667, 0.13652482269503546, 0.6893772893772895],\n",
       "  [6, 5.6923076923076925, 0.14979757085020243, 0.6562687312687311],\n",
       "  [5, 3.176470588235294, 0.0962566844919786, 0.5369747899159664],\n",
       "  [2, 9.404255319148936, 0.20444033302497686, 0.673392481527651],\n",
       "  [0, 5.1, 0.13076923076923075, 0.6685714285714286],\n",
       "  [14, 1.9607843137254901, 0.0392156862745098, 0.2470588235294118],\n",
       "  [8, 2.6153846153846154, 0.10461538461538461, 0.5230769230769231],\n",
       "  [0, 3.0, 0.1111111111111111, 0.3755102040816326],\n",
       "  [15, 5.782608695652174, 0.1285024154589372, 0.4534554213902041],\n",
       "  [3, 2.473684210526316, 0.06685633001422475, 0.4357142857142857],\n",
       "  [4, 5.352941176470588, 0.1622103386809269, 0.5999236058059587],\n",
       "  [9, 4.142857142857143, 0.15343915343915346, 0.3408163265306122],\n",
       "  [4, 6.0, 0.1935483870967742, 0.6156645437895439],\n",
       "  [9, 4.975609756097561, 0.12439024390243902, 0.5858321894907261]])"
      ]
     },
     "execution_count": 6,
     "metadata": {},
     "output_type": "execute_result"
    }
   ],
   "source": [
    "len(pcd), feature_vectors"
   ]
  },
  {
   "cell_type": "markdown",
   "metadata": {},
   "source": [
    "## With homologies"
   ]
  },
  {
   "cell_type": "code",
   "execution_count": 7,
   "metadata": {},
   "outputs": [
    {
     "name": "stdout",
     "output_type": "stream",
     "text": [
      "0.78 accuracy with a standard deviation of 0.04  Homology1\n",
      "0.78 accuracy with a standard deviation of 0.04  Combination of features (0,)\n",
      "0.78 accuracy with a standard deviation of 0.04  Combination of features (1,)\n",
      "0.78 accuracy with a standard deviation of 0.04  Combination of features (2,)\n",
      "0.78 accuracy with a standard deviation of 0.04  Combination of features (3,)\n",
      "0.78 accuracy with a standard deviation of 0.04  Combination of features (0, 1)\n",
      "0.78 accuracy with a standard deviation of 0.04  Combination of features (0, 2)\n",
      "0.78 accuracy with a standard deviation of 0.04  Combination of features (0, 3)\n",
      "0.78 accuracy with a standard deviation of 0.04  Combination of features (1, 2)\n",
      "0.78 accuracy with a standard deviation of 0.04  Combination of features (1, 3)\n",
      "0.78 accuracy with a standard deviation of 0.04  Combination of features (2, 3)\n",
      "0.78 accuracy with a standard deviation of 0.04  Combination of features (0, 1, 2)\n",
      "0.78 accuracy with a standard deviation of 0.04  Combination of features (0, 1, 3)\n",
      "0.78 accuracy with a standard deviation of 0.04  Combination of features (0, 2, 3)\n",
      "0.78 accuracy with a standard deviation of 0.04  Combination of features (1, 2, 3)\n",
      "0.78 accuracy with a standard deviation of 0.04  Homology2\n",
      "0.78 accuracy with a standard deviation of 0.04  Combination of features (0,)\n",
      "0.82 accuracy with a standard deviation of 0.10  Combination of features (1,)\n",
      "0.78 accuracy with a standard deviation of 0.04  Combination of features (2,)\n",
      "0.78 accuracy with a standard deviation of 0.04  Combination of features (3,)\n",
      "0.84 accuracy with a standard deviation of 0.12  Combination of features (0, 1)\n",
      "0.78 accuracy with a standard deviation of 0.04  Combination of features (0, 2)\n",
      "0.78 accuracy with a standard deviation of 0.04  Combination of features (0, 3)\n",
      "0.82 accuracy with a standard deviation of 0.10  Combination of features (1, 2)\n",
      "0.82 accuracy with a standard deviation of 0.10  Combination of features (1, 3)\n",
      "0.78 accuracy with a standard deviation of 0.04  Combination of features (2, 3)\n",
      "0.83 accuracy with a standard deviation of 0.14  Combination of features (0, 1, 2)\n",
      "0.85 accuracy with a standard deviation of 0.10  Combination of features (0, 1, 3)\n",
      "0.78 accuracy with a standard deviation of 0.04  Combination of features (0, 2, 3)\n",
      "0.82 accuracy with a standard deviation of 0.10  Combination of features (1, 2, 3)\n",
      "0.78 accuracy with a standard deviation of 0.04  Homology3\n",
      "0.78 accuracy with a standard deviation of 0.04  Combination of features (0,)\n",
      "0.78 accuracy with a standard deviation of 0.04  Combination of features (1,)\n",
      "0.78 accuracy with a standard deviation of 0.04  Combination of features (2,)\n",
      "0.78 accuracy with a standard deviation of 0.04  Combination of features (3,)\n",
      "0.78 accuracy with a standard deviation of 0.04  Combination of features (0, 1)\n",
      "0.78 accuracy with a standard deviation of 0.04  Combination of features (0, 2)\n",
      "0.78 accuracy with a standard deviation of 0.04  Combination of features (0, 3)\n",
      "0.78 accuracy with a standard deviation of 0.04  Combination of features (1, 2)\n",
      "0.78 accuracy with a standard deviation of 0.04  Combination of features (1, 3)\n",
      "0.78 accuracy with a standard deviation of 0.04  Combination of features (2, 3)\n",
      "0.78 accuracy with a standard deviation of 0.04  Combination of features (0, 1, 2)\n",
      "0.78 accuracy with a standard deviation of 0.04  Combination of features (0, 1, 3)\n",
      "0.78 accuracy with a standard deviation of 0.04  Combination of features (0, 2, 3)\n",
      "0.78 accuracy with a standard deviation of 0.04  Combination of features (1, 2, 3)\n",
      "\n",
      "Average score: 0.7902\n",
      "Best scores: [(0.8527272727272728, '0 1 3 h2'), (0.8427272727272728, '0 1 h2'), (0.8327272727272728, '0 1 2 h2')]\n"
     ]
    }
   ],
   "source": [
    "from sklearn.metrics import confusion_matrix\n",
    "\n",
    "num_features = len(feature_vectors[0])\n",
    "clf = svm.SVC(kernel='linear', C=1, random_state=42)\n",
    "best_scores = []\n",
    "# We take one homology and up to three other features\n",
    "\n",
    "for homology_idx in range(3):\n",
    "    final_fvs = []\n",
    "    \n",
    "    # First add homology and nothing else\n",
    "    for entropy_fv in entropy_feature_vectors:\n",
    "        final_fvs.append(entropy_fv[homology_idx])\n",
    "\n",
    "    # TODO add train and test\n",
    "    scores = cross_val_score(clf, final_fvs, labels, cv=10)\n",
    "    y_pred = cross_val_predict(clf, final_fvs, labels, cv=10)\n",
    "    conf_mat = confusion_matrix(labels, y_pred)\n",
    "    best_scores.append((scores.mean(), \"h\"+str(homology_idx+1), conf_mat))\n",
    "    print(\"%0.2f accuracy with a standard deviation of %0.2f  %s\" % (scores.mean(), scores.std(), \"Homology\"+str(homology_idx+1)))\n",
    "\n",
    "    for number_of_additional_features in range(1,4):\n",
    "        combinations = list(itertools.combinations(range(num_features), number_of_additional_features))\n",
    "\n",
    "        # Loop through all posible feature subsets of size\n",
    "        for combination in combinations:\n",
    "            # print(combination)\n",
    "            final_fvs = []\n",
    "            # First add homology and a certain number of features\n",
    "            for fv_idx, entropy_fv in enumerate(entropy_feature_vectors):\n",
    "                extracted_fv = [x for x in entropy_fv[homology_idx]]\n",
    "\n",
    "                extracted_fv += [feature_vectors[fv_idx][i] for i in combination]\n",
    "\n",
    "                final_fvs.append(extracted_fv)\n",
    "\n",
    "            # TODO add train and test\n",
    "            scores = cross_val_score(clf, final_fvs, labels, cv=10)\n",
    "            y_pred = cross_val_predict(clf, final_fvs, labels, cv=10)\n",
    "            conf_mat = confusion_matrix(labels, y_pred)\n",
    "            best_scores.append((scores.mean(), ''.join([str(x)+\" \" for x in combination]) + \"h\" + str(homology_idx+1), conf_mat))\n",
    "            print(\"%0.2f accuracy with a standard deviation of %0.2f  %s\" % (scores.mean(), scores.std(), \"Combination of features \"+str(combination)))\n",
    "\n",
    "            # print(final_fvs)\n",
    "            \n",
    "best_scores.sort(reverse=True)\n",
    "print(\"\\nAverage score: %0.4f\" % (sum([x for x, s, cm in best_scores]) / len(best_scores)))\n",
    "print(\"Best scores:\", [x[:2] for x in best_scores[:3]])"
   ]
  },
  {
   "cell_type": "code",
   "execution_count": 8,
   "metadata": {},
   "outputs": [
    {
     "data": {
      "image/png": "[encoded data removed]",
      "text/plain": [
       "<Figure size 1440x360 with 1 Axes>"
      ]
     },
     "metadata": {
      "needs_background": "light"
     },
     "output_type": "display_data"
    }
   ],
   "source": [
    "import numpy as np\n",
    "import matplotlib.pyplot as plt\n",
    "\n",
    "data = [(score, comb) for score, comb, cm in best_scores if score >= majority_classifier]\n",
    "fig = plt.figure(figsize = (20, 5))\n",
    "plt.bar([x[1] for x in data], [x[0] for x in data], color ='blue', width = 0.4)\n",
    "plt.bar(\"baseline\", majority_classifier, color ='red', width = 0.4)\n",
    "plt.ylim(0.5, best_scores[0][0] + 0.05)\n",
    "plt.xticks(rotation = 45)\n",
    "plt.xlabel(\"Feature vectors\")\n",
    "plt.ylabel(\"Accuracy\")\n",
    "plt.title(\"Method accuracy using different combinations of parameters\")\n",
    "plt.show()"
   ]
  },
  {
   "cell_type": "code",
   "execution_count": 9,
   "metadata": {},
   "outputs": [
    {
     "data": {
      "image/png": "[encoded data removed]",
      "text/plain": [
       "<Figure size 432x288 with 2 Axes>"
      ]
     },
     "metadata": {},
     "output_type": "display_data"
    }
   ],
   "source": [
    "import seaborn as sn\n",
    "\n",
    "df_cm = pd.DataFrame(best_scores[0][2], index = ['True','False'], columns = ['True','False'])\n",
    "sn.set(font_scale=1.4) # for label size\n",
    "sn.heatmap(df_cm, annot=True, annot_kws={\"size\": 16}) # font size\n",
    "plt.show()"
   ]
  },
  {
   "cell_type": "code",
   "execution_count": 10,
   "metadata": {},
   "outputs": [
    {
     "name": "stderr",
     "output_type": "stream",
     "text": [
      "c:\\users\\marija\\appdata\\local\\programs\\python\\python38\\lib\\site-packages\\sklearn\\svm\\_base.py:1206: ConvergenceWarning:\n",
      "\n",
      "Liblinear failed to converge, increase the number of iterations.\n",
      "\n"
     ]
    },
    {
     "data": {
      "text/plain": [
       "0.6765"
      ]
     },
     "execution_count": 10,
     "metadata": {},
     "output_type": "execute_result"
    }
   ],
   "source": [
    "X_train, X_test, y_train, y_test = train_test_split(final_fvs, labels, test_size=0.33, random_state=42)\n",
    "\n",
    "SVM = svm.LinearSVC()\n",
    "SVM.fit(X_train, y_train)\n",
    "SVM.predict(X_test)\n",
    "round(SVM.score(X_test,y_test), 4)"
   ]
  },
  {
   "cell_type": "markdown",
   "metadata": {},
   "source": [
    "## Without homologies"
   ]
  },
  {
   "cell_type": "code",
   "execution_count": 11,
   "metadata": {},
   "outputs": [
    {
     "name": "stdout",
     "output_type": "stream",
     "text": [
      "0.78 accuracy with a standard deviation of 0.04  Combination of features (0,)\n",
      "0.78 accuracy with a standard deviation of 0.04  Combination of features (1,)\n",
      "0.78 accuracy with a standard deviation of 0.04  Combination of features (2,)\n",
      "0.78 accuracy with a standard deviation of 0.04  Combination of features (3,)\n",
      "0.78 accuracy with a standard deviation of 0.04  Combination of features (0, 1)\n",
      "0.78 accuracy with a standard deviation of 0.04  Combination of features (0, 2)\n",
      "0.78 accuracy with a standard deviation of 0.04  Combination of features (0, 3)\n",
      "0.78 accuracy with a standard deviation of 0.04  Combination of features (1, 2)\n",
      "0.78 accuracy with a standard deviation of 0.04  Combination of features (1, 3)\n",
      "0.78 accuracy with a standard deviation of 0.04  Combination of features (2, 3)\n",
      "0.78 accuracy with a standard deviation of 0.04  Combination of features (0, 1, 2)\n",
      "0.78 accuracy with a standard deviation of 0.04  Combination of features (0, 1, 3)\n",
      "0.78 accuracy with a standard deviation of 0.04  Combination of features (0, 2, 3)\n",
      "0.78 accuracy with a standard deviation of 0.04  Combination of features (1, 2, 3)\n",
      "0.78 accuracy with a standard deviation of 0.04  Combination of features (0, 1, 2, 3)\n",
      "\n",
      "Average score: 0.7827\n",
      "Best scores: [(0.7827272727272728, '(3,)'), (0.7827272727272728, '(2,)'), (0.7827272727272728, '(2, 3)')]\n"
     ]
    }
   ],
   "source": [
    "best_scores_2 = []\n",
    "for number_of_additional_features in range(1,6):\n",
    "    combinations = list(itertools.combinations(range(num_features), number_of_additional_features))\n",
    "\n",
    "    # Loop through all posible feature subsets of size\n",
    "    for combination in combinations:\n",
    "        # print(combination)\n",
    "        final_fvs = []\n",
    "        # First add homology and a certain number of features\n",
    "        for fv_idx, fv in enumerate(feature_vectors):\n",
    "            extracted_fv = [fv[i] for i in combination]\n",
    "\n",
    "            final_fvs.append(extracted_fv)\n",
    "\n",
    "        # TODO add train and test\n",
    "        scores = cross_val_score(clf, final_fvs, labels, cv=10)\n",
    "        best_scores_2.append((scores.mean(), str(combination)))\n",
    "        print(\"%0.2f accuracy with a standard deviation of %0.2f  %s\" % (scores.mean(), scores.std(), \"Combination of features \"+str(combination)))\n",
    "\n",
    "        # print(final_fvs)\n",
    "        \n",
    "            \n",
    "best_scores_2.sort(reverse=True)\n",
    "print(\"\\nAverage score: %0.4f\" % (sum([x for x, s in best_scores_2]) / len(best_scores_2)))\n",
    "print(\"Best scores:\", best_scores_2[:3])"
   ]
  },
  {
   "cell_type": "code",
   "execution_count": 12,
   "metadata": {},
   "outputs": [
    {
     "name": "stderr",
     "output_type": "stream",
     "text": [
      "c:\\users\\marija\\appdata\\local\\programs\\python\\python38\\lib\\site-packages\\sklearn\\svm\\_base.py:1206: ConvergenceWarning:\n",
      "\n",
      "Liblinear failed to converge, increase the number of iterations.\n",
      "\n"
     ]
    },
    {
     "data": {
      "text/plain": [
       "0.6765"
      ]
     },
     "execution_count": 12,
     "metadata": {},
     "output_type": "execute_result"
    }
   ],
   "source": [
    "X_train, X_test, y_train, y_test = train_test_split(final_fvs, labels, test_size=0.33, random_state=42)\n",
    "\n",
    "SVM = svm.LinearSVC()\n",
    "SVM.fit(X_train, y_train)\n",
    "SVM.predict(X_test)\n",
    "round(SVM.score(X_test,y_test), 4)"
   ]
  },
  {
   "cell_type": "code",
   "execution_count": 13,
   "metadata": {},
   "outputs": [
    {
     "name": "stdout",
     "output_type": "stream",
     "text": [
      "OOB score: 0.882\n"
     ]
    }
   ],
   "source": [
    "from sklearn.ensemble import RandomForestClassifier\n",
    "\n",
    "rf = RandomForestClassifier(oob_score=True)\n",
    "rf.fit(X_test,y_test)\n",
    "\n",
    "print(f\"OOB score: {rf.oob_score_:.3f}\")"
   ]
  },
  {
   "cell_type": "code",
   "execution_count": 25,
   "metadata": {},
   "outputs": [
    {
     "name": "stdout",
     "output_type": "stream",
     "text": [
      "\n",
      "Start computing model accuracy... 1/4\n",
      "Start computing model accuracy... <built-in function iter>/8\n",
      "- processing data\n",
      "- computing feature vectors\n",
      " 99%\n",
      "- calculating accuracy scores\n",
      "0 Projection CubicalCover4-0.1 DBSCAN10\n",
      "[(0.860909090909091, '1 h2'), (0.860909090909091, '1 3 h2'), (0.860909090909091, '1 2 h2')] (0.7827272727272728, '(3,)') 0.7821782178217822\n",
      "\n",
      "Start computing model accuracy... 2/4\n",
      "Start computing model accuracy... <built-in function iter>/8\n",
      "- processing data\n",
      "- computing feature vectors\n",
      " 99%\n",
      "- calculating accuracy scores\n",
      "0 Projection CubicalCover3-0.2 DBSCAN10\n",
      "[(0.9327272727272728, '0 h2'), (0.9327272727272728, '0 3 h2'), (0.9327272727272728, '0 2 h2')] (0.8827272727272728, '(0, 1, 3)') 0.7821782178217822\n",
      "\n",
      "Start computing model accuracy... 3/4\n",
      "Start computing model accuracy... <built-in function iter>/8\n",
      "- processing data\n",
      "- computing feature vectors\n",
      " 99%\n",
      "- calculating accuracy scores\n",
      "0 PCA CubicalCover4-0.1 DBSCAN10\n",
      "[(0.95, '1 3 h1'), (0.95, '1 2 3 h1'), (0.9400000000000001, '1 h3')] (0.9400000000000001, '(1, 3)') 0.7821782178217822\n",
      "\n",
      "Start computing model accuracy... 4/4\n",
      "Start computing model accuracy... <built-in function iter>/8\n",
      "- processing data\n",
      "- computing feature vectors\n",
      " 99%\n",
      "- calculating accuracy scores\n",
      "0 PCA CubicalCover3-0.2 DBSCAN10\n",
      "[(0.8536363636363637, '1 h2'), (0.8536363636363637, '1 3 h2'), (0.8536363636363637, '1 2 h2')] (0.8036363636363637, '(0, 1, 2, 3)') 0.7821782178217822\n"
     ]
    }
   ],
   "source": [
    "from test_models import model_accuracy, visualize_scores\n",
    "import dataframe_image as dfi\n",
    "\n",
    "data = []\n",
    "iter = 1\n",
    "items = ['tables','chairs', 'octopus', 'spiders']\n",
    "best_score = []\n",
    "for k in [0]:\n",
    "    for ff in ['Projection', 'PCA']:\n",
    "        for co in ['CubicalCover4-0.1', 'CubicalCover3-0.2']:\n",
    "            for cl in ['DBSCAN10']:\n",
    "                print(\"\\nStart computing model accuracy... \" + str(iter) + \"/4\")\n",
    "                scores, scores_wo_homology, majority_classifier = model_accuracy(k, filter_func=ff, cover=co, clusterer=cl)\n",
    "                res_w_homology = [x[:2] for x in scores[:3]]\n",
    "                best_score.append((scores[0], majority_classifier, (items[k], ff, co, cl))) \n",
    "                res_wo_homology = [x[:2] for x in scores_wo_homology[:3]]\n",
    "                best_score.append((scores_wo_homology[0], majority_classifier, (items[k], ff, co, cl)))\n",
    "                data.append([items[k], ff, co, cl, res_w_homology[0], res_wo_homology[0], majority_classifier])\n",
    "                print(k, ff, co, cl)\n",
    "                print(res_w_homology[:3], res_wo_homology[0], majority_classifier)\n",
    "                iter += 1\n",
    "\n",
    "table = pd.DataFrame(data, range(len(data)), [\"items\", \"filter function\", \"cover\", \"clusterer\", \"accuracy scores w homology\", \"accuracy score wo homology\", \"majority classifier\"])\n",
    "# print(table)\n",
    "dfi.export(table,\"data/testResults/mytable.png\")"
   ]
  },
  {
   "cell_type": "code",
   "execution_count": null,
   "metadata": {},
   "outputs": [],
   "source": []
  }
 ],
 "metadata": {
  "interpreter": {
   "hash": "a1faa2b89841f2d81216e2b69e9280f066c9505dc0dde4939c230224824eed47"
  },
  "kernelspec": {
   "display_name": "Python 3 (ipykernel)",
   "language": "python",
   "name": "python3"
  },
  "language_info": {
   "codemirror_mode": {
    "name": "ipython",
    "version": 3
   },
   "file_extension": ".py",
   "mimetype": "text/x-python",
   "name": "python",
   "nbconvert_exporter": "python",
   "pygments_lexer": "ipython3",
   "version": "3.8.3"
  }
 },
 "nbformat": 4,
 "nbformat_minor": 4
}
