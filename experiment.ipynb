{
 "cells": [
  {
   "cell_type": "markdown",
   "metadata": {},
   "source": [
    "# Importing"
   ]
  },
  {
   "cell_type": "code",
   "execution_count": null,
   "metadata": {},
   "outputs": [],
   "source": [
    "# Data wrangling\n",
    "import numpy as np\n",
    "import pandas as pd  # Not a requirement of giotto-tda, but is compatible with the gtda.mapper module\n",
    "import os\n",
    "import time\n",
    "import itertools\n",
    "import open3d as o3d\n",
    "\n",
    "# Data viz\n",
    "from gtda.plotting import plot_point_cloud\n",
    "from gtda.plotting import plot_diagram\n",
    "\n",
    "# TDA magic\n",
    "from gtda.homology import VietorisRipsPersistence\n",
    "from gtda.mapper import (\n",
    "    CubicalCover,\n",
    "    make_mapper_pipeline,\n",
    "    Projection,\n",
    "    plot_static_mapper_graph,\n",
    "    plot_interactive_mapper_graph,\n",
    "    MapperInteractivePlotter\n",
    ")\n",
    "\n",
    "# ML tools\n",
    "from sklearn import datasets\n",
    "from sklearn.cluster import DBSCAN\n",
    "from sklearn.decomposition import PCA\n",
    "\n",
    "from src.feature_vectors import create_feature_vector"
   ]
  },
  {
   "cell_type": "markdown",
   "metadata": {},
   "source": [
    "# Prepare cloud points"
   ]
  },
  {
   "cell_type": "code",
   "execution_count": null,
   "metadata": {},
   "outputs": [],
   "source": [
    "def get_ply_files(folder):\n",
    "    files = list(filter(lambda file: file.split('.')[-1]=='ply', os.listdir(folder)))\n",
    "    files = list(map(lambda file: os.path.join(folder, file),files))\n",
    "    return files\n",
    "\n",
    "ply_files  = get_ply_files('data/tablesPly')\n",
    "ply_files += get_ply_files('data/chairsPly')\n",
    "ply_files += get_ply_files('data/octopusPly')\n",
    "ply_files += get_ply_files('data/spidersPly')\n",
    "\n",
    "# TODO: is to be changed for binar classification\n",
    "labels, index = np.zeros(len(ply_files)), len(os.listdir('data/tablesPly')), \n",
    "index2 = index + len(os.listdir('data/chairsPly'))\n",
    "labels[index:index2] = 1\n",
    "index, index2 = index2, index2 + len(os.listdir('data/octopusPly'))\n",
    "labels[index:index2] = 2\n",
    "labels[index2:] = 3\n",
    "\n",
    "pcd = [o3d.io.read_point_cloud(file) for file in ply_files]\n",
    "pcd = [np.asarray(pc.points) for pc in pcd]"
   ]
  },
  {
   "cell_type": "markdown",
   "metadata": {},
   "source": [
    "## Persistance and pipe"
   ]
  },
  {
   "cell_type": "code",
   "execution_count": null,
   "metadata": {},
   "outputs": [],
   "source": [
    "# Track connected components, loops, and voids\n",
    "homology_dimensions = [0, 1, 2]\n",
    "\n",
    "# Collapse edges to speed up H2 persistence calculation!\n",
    "persistence = VietorisRipsPersistence(\n",
    "    metric=\"euclidean\",\n",
    "    homology_dimensions=homology_dimensions,\n",
    "    n_jobs=6,\n",
    "    collapse_edges=True,\n",
    ")\n",
    "\n",
    "#filter_func = Projection(columns=[0,1,2])\n",
    "filter_func = PCA(n_components=2)\n",
    "\n",
    "cover = CubicalCover(n_intervals=4, overlap_frac=0.08)\n",
    "#cover = OneDimensionalCover(kind='uniform', n_intervals=10, overlap_frac=0.1)\n",
    "\n",
    "clusterer = DBSCAN(eps=10, metric=\"chebyshev\")\n",
    "\n",
    "n_jobs = 1\n",
    "\n",
    "pipe = make_mapper_pipeline(\n",
    "    filter_func=filter_func,\n",
    "    cover=cover,\n",
    "    clusterer=clusterer,\n",
    "    verbose=False,\n",
    "    n_jobs=n_jobs,\n",
    ")"
   ]
  },
  {
   "cell_type": "markdown",
   "metadata": {},
   "source": [
    "# Feature vector creation"
   ]
  },
  {
   "cell_type": "code",
   "execution_count": null,
   "metadata": {},
   "outputs": [],
   "source": [
    "entropy_feature_vectors = []\n",
    "feature_vectors = []\n",
    "start = time.time()\n",
    "for i, pc in enumerate(pcd):\n",
    "    print('\\r', f\"{int((i/len(pcd))*100)}%\", end=\"\")\n",
    "    e_fv, fv = create_feature_vector(pc, pipe, persistence)\n",
    "\n",
    "    entropy_feature_vectors.append(e_fv)\n",
    "    feature_vectors.append(fv)\n",
    "end = time.time()\n",
    "print(\"Time to compute create feature vectors:\", end - start, \"s\")"
   ]
  },
  {
   "cell_type": "markdown",
   "metadata": {},
   "source": [
    "## With homologies"
   ]
  },
  {
   "cell_type": "code",
   "execution_count": null,
   "metadata": {},
   "outputs": [],
   "source": [
    "num_features = len(feature_vectors[0])\n",
    "# We take one homology and up to three other features\n",
    "\n",
    "for homology_idx in range(3):\n",
    "    final_fvs = []\n",
    "    \n",
    "    # First add homology and nothing else\n",
    "    for entropy_fv in entropy_feature_vectors:\n",
    "        final_fvs.append(entropy_fv[homology_idx])\n",
    "\n",
    "    # TODO add train and test\n",
    "\n",
    "    for number_of_additional_features in range(1,4):\n",
    "        combinations = list(itertools.combinations(range(num_features), number_of_additional_features))\n",
    "\n",
    "        # Loop through all posible feature subsets of size\n",
    "        for combination in combinations:\n",
    "            print(combination)\n",
    "            final_fvs = []\n",
    "            # First add homology and a certain number of features\n",
    "            for fv_idx, entropy_fv in enumerate(entropy_feature_vectors):\n",
    "                extracted_fv = [x for x in entropy_fv[homology_idx]]\n",
    "\n",
    "                extracted_fv += [feature_vectors[fv_idx][i] for i in combination]\n",
    "\n",
    "                final_fvs.append(extracted_fv)\n",
    "\n",
    "            # TODO add train and test\n",
    "\n",
    "            print(final_fvs)\n"
   ]
  },
  {
   "cell_type": "markdown",
   "metadata": {},
   "source": [
    "## Without homologies"
   ]
  },
  {
   "cell_type": "code",
   "execution_count": null,
   "metadata": {},
   "outputs": [],
   "source": [
    "for number_of_additional_features in range(1,4):\n",
    "    combinations = list(itertools.combinations(range(num_features), number_of_additional_features))\n",
    "\n",
    "    # Loop through all posible feature subsets of size\n",
    "    for combination in combinations:\n",
    "        print(combination)\n",
    "        final_fvs = []\n",
    "        # First add homology and a certain number of features\n",
    "        for fv_idx, fv in enumerate(feature_vectors):\n",
    "            extracted_fv = [fv[i] for i in combination]\n",
    "\n",
    "            final_fvs.append(extracted_fv)\n",
    "\n",
    "        # TODO add train and test\n",
    "\n",
    "        print(final_fvs)\n"
   ]
  }
 ],
 "metadata": {
  "interpreter": {
   "hash": "a1faa2b89841f2d81216e2b69e9280f066c9505dc0dde4939c230224824eed47"
  },
  "kernelspec": {
   "display_name": "Python 3.8.13",
   "language": "python",
   "name": "python3"
  },
  "language_info": {
   "codemirror_mode": {
    "name": "ipython",
    "version": 3
   },
   "file_extension": ".py",
   "mimetype": "text/x-python",
   "name": "python",
   "nbconvert_exporter": "python",
   "pygments_lexer": "ipython3",
   "version": "3.8.13"
  },
  "orig_nbformat": 4
 },
 "nbformat": 4,
 "nbformat_minor": 2
}
