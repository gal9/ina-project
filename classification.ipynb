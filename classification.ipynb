{
 "cells": [
  {
   "cell_type": "markdown",
   "id": "04169d60",
   "metadata": {
    "id": "zzfg3f7zWffO"
   },
   "source": [
    "# Classification of 3D shapes"
   ]
  },
  {
   "cell_type": "markdown",
   "id": "5e088577-e008-4434-8eff-24e3d8f5382b",
   "metadata": {},
   "source": [
    "Reference file"
   ]
  },
  {
   "cell_type": "code",
   "execution_count": null,
   "id": "0427c3e0",
   "metadata": {
    "id": "8c646041-8f9f-4681-8060-add55d8f3961",
    "outputId": "77fff1a9-6b90-4b8e-fdd7-8696d0d81cda"
   },
   "outputs": [],
   "source": [
    "import time\n",
    "start = time.time()\n",
    "\n",
    "\n",
    "# Data wrangling\n",
    "import numpy as np\n",
    "import pandas as pd  # Not a requirement of giotto-tda, but is compatible with the gtda.mapper module\n",
    "import os\n",
    "import open3d as o3d\n",
    "\n",
    "# Data viz\n",
    "from gtda.plotting import plot_point_cloud\n",
    "from gtda.plotting import plot_diagram\n",
    "\n",
    "# TDA magic\n",
    "from gtda.homology import VietorisRipsPersistence\n",
    "from gtda.mapper import (\n",
    "    CubicalCover,\n",
    "    make_mapper_pipeline,\n",
    "    Projection,\n",
    "    plot_static_mapper_graph,\n",
    "    plot_interactive_mapper_graph,\n",
    "    MapperInteractivePlotter\n",
    ")\n",
    "\n",
    "# ML tools\n",
    "from sklearn import datasets\n",
    "from sklearn.cluster import DBSCAN\n",
    "from sklearn.decomposition import PCA\n",
    "\n",
    "end = time.time()\n",
    "print(\"Time to load libraries:\", end - start, \"s\")"
   ]
  },
  {
   "cell_type": "markdown",
   "id": "2836366c",
   "metadata": {
    "id": "hr-87fuCWws3"
   },
   "source": [
    "## Import data\n",
    "\n",
    "Downloaded from McGill 3D Shape Benchmark: http://www.cim.mcgill.ca/~shape/benchMark/index.html."
   ]
  },
  {
   "cell_type": "code",
   "execution_count": null,
   "id": "2a1c5073",
   "metadata": {
    "id": "400f1e1c-24e8-408a-9d28-ac1316c05128"
   },
   "outputs": [],
   "source": [
    "def get_ply_files(folder):\n",
    "    files = list(filter(lambda file: file.split('.')[-1]=='ply', os.listdir(folder)))\n",
    "    files = list(map(lambda file: os.path.join(folder, file),files))\n",
    "    return files\n",
    "\n",
    "ply_files  = get_ply_files('data/tablesPly')\n",
    "ply_files += get_ply_files('data/chairsPly')\n",
    "ply_files += get_ply_files('data/octopusPly')\n",
    "ply_files += get_ply_files('data/spidersPly')\n",
    "\n",
    "labels, index = np.zeros(len(ply_files)), len(os.listdir('data/tablesPly')), \n",
    "index2 = index + len(os.listdir('data/chairsPly'))\n",
    "labels[index:index2] = 1\n",
    "index, index2 = index2, index2 + len(os.listdir('data/octopusPly'))\n",
    "labels[index:index2] = 2\n",
    "labels[index2:] = 3"
   ]
  },
  {
   "cell_type": "code",
   "execution_count": null,
   "id": "1fa43c8d",
   "metadata": {
    "id": "e074df77-03b1-49d4-82e6-25193fac635b"
   },
   "outputs": [],
   "source": [
    "# tables 0-21, chairs 22-44, cups 45-69, humans 70-98\n",
    "pcd = [o3d.io.read_point_cloud(file) for file in ply_files]\n",
    "pcd = [np.asarray(pc.points) for pc in pcd]\n",
    "# print(pcd.shape, labels.shape)"
   ]
  },
  {
   "cell_type": "code",
   "execution_count": null,
   "id": "9e721570",
   "metadata": {},
   "outputs": [],
   "source": [
    "print(pcd[0])"
   ]
  },
  {
   "cell_type": "code",
   "execution_count": null,
   "id": "cb6fcd6b",
   "metadata": {
    "id": "a7dd0d08-ba17-4e46-a1a5-af449cbe29f3",
    "outputId": "08860f92-0aa3-454a-c938-11c45f7de32b"
   },
   "outputs": [],
   "source": [
    "plot_point_cloud(pcd[1])"
   ]
  },
  {
   "cell_type": "markdown",
   "id": "0195dfc9",
   "metadata": {
    "id": "NznKPaq-YvC-"
   },
   "source": [
    "## Simplify data and construct network"
   ]
  },
  {
   "cell_type": "code",
   "execution_count": null,
   "id": "621cf91c",
   "metadata": {
    "id": "1336dfca-b49c-4ebb-9c2a-d0fe50821320",
    "outputId": "a7002912-e85f-459a-f28e-96e0cbd28847"
   },
   "outputs": [],
   "source": [
    "#filter_func = Projection(columns=[0,1,2])\n",
    "filter_func = PCA(n_components=2)\n",
    "\n",
    "cover = CubicalCover(n_intervals=4, overlap_frac=0.08)\n",
    "#cover = OneDimensionalCover(kind='uniform', n_intervals=10, overlap_frac=0.1)\n",
    "\n",
    "clusterer = DBSCAN(eps=10, metric=\"chebyshev\")\n",
    "\n",
    "n_jobs = 1\n",
    "\n",
    "pipe = make_mapper_pipeline(\n",
    "    filter_func=filter_func,\n",
    "    cover=cover,\n",
    "    clusterer=clusterer,\n",
    "    verbose=False,\n",
    "    n_jobs=n_jobs,\n",
    ")\n",
    "\n",
    "fig = plot_static_mapper_graph(pipe, pcd[1])\n",
    "fig.show(config={'scrollZoom': True})"
   ]
  },
  {
   "cell_type": "code",
   "execution_count": null,
   "id": "8fdb712a",
   "metadata": {
    "id": "98aebc58-3cac-4fad-8171-d8955f6cd679",
    "outputId": "04687353-8e04-4b88-e3fc-84079e742a3b"
   },
   "outputs": [],
   "source": [
    "mapped_points = np.array(list(x for x in zip(fig.data[1].x, fig.data[1].y) if None not in x))\n",
    "diagram_chair = persistence.fit_transform(mapped_points[None, :, :])\n",
    "plot_diagram(diagram_chair[0])"
   ]
  },
  {
   "cell_type": "code",
   "execution_count": null,
   "id": "b70d3be5",
   "metadata": {
    "id": "6fdc4b19-4fb1-4518-b255-1077ba2fc71b",
    "outputId": "52b3dbc8-3ab4-46fd-87cc-651eb92fda70"
   },
   "outputs": [],
   "source": [
    "start = time.time()\n",
    "graphs = [pipe.fit_transform(pc) for pc in pcd]\n",
    "end = time.time()\n",
    "print(\"Time to compute create smaller graphs with mapper:\", end - start, \"s\")"
   ]
  },
  {
   "cell_type": "code",
   "execution_count": null,
   "id": "4e0624bb",
   "metadata": {
    "id": "51b88ef9-e119-4b87-9421-eaffbc7b1f42",
    "outputId": "c8bd2930-4269-461e-c26b-ab12bf1b6099"
   },
   "outputs": [],
   "source": [
    "print(graphs[0].vs)"
   ]
  },
  {
   "cell_type": "code",
   "execution_count": null,
   "id": "e0f9bae3",
   "metadata": {
    "id": "1cc96515-409c-43ff-982f-4a9eee95304a"
   },
   "outputs": [],
   "source": [
    "start = time.time()\n",
    "figures = [plot_static_mapper_graph(pipe, pc) for pc in pcd]\n",
    "end = time.time()\n",
    "print(\"Time to compute create smaller graphs with mapper:\", end - start, \"s\")\n",
    "\n",
    "figures[0].show(config={'scrollZoom': True})"
   ]
  },
  {
   "cell_type": "markdown",
   "id": "e1b175cb",
   "metadata": {
    "id": "ubq-Z1yTYNHP"
   },
   "source": [
    "## Network analysis\n",
    "\n",
    " "
   ]
  },
  {
   "cell_type": "code",
   "execution_count": null,
   "id": "ee8d6c21",
   "metadata": {
    "id": "278b78fa-afbe-4e52-92c3-2b5da5c4ad41"
   },
   "outputs": [],
   "source": [
    "# Track connected components, loops, and voids\n",
    "homology_dimensions = [0, 1, 2]\n",
    "\n",
    "# Collapse edges to speed up H2 persistence calculation!\n",
    "persistence = VietorisRipsPersistence(\n",
    "    metric=\"euclidean\",\n",
    "    homology_dimensions=homology_dimensions,\n",
    "    n_jobs=6,\n",
    "    collapse_edges=True,\n",
    ")"
   ]
  },
  {
   "cell_type": "code",
   "execution_count": null,
   "id": "a77dcf41",
   "metadata": {
    "id": "ccda0ef2-83de-479c-8577-5d98d393ba8e"
   },
   "outputs": [],
   "source": [
    "results = []\n",
    "for fig in figures:\n",
    "    mapped_points = np.array(list(x for x in zip(fig.data[1].x, fig.data[1].y) if None not in x))\n",
    "    diagram = persistence.fit_transform(mapped_points[None, :, :])\n",
    "    results.append(diagram[0])"
   ]
  },
  {
   "cell_type": "code",
   "execution_count": null,
   "id": "60f31437",
   "metadata": {},
   "outputs": [],
   "source": [
    "from sklearn.ensemble import RandomForestClassifier\n",
    "from gtda.diagrams import Amplitude, PersistenceEntropy\n",
    "entropy_results = np.array([PersistenceEntropy().fit_transform(r[None,:,:])[0] for r in results])\n",
    "amplitude_w_results = np.array([Amplitude(metric='wasserstein').fit_transform(r[None, :, :])[0] for r in results])\n",
    "amplitude_b_results = np.array([Amplitude(metric='bottleneck').fit_transform(r[None, :, :])[0] for r in results])\n",
    "print(amplitude_w_results)"
   ]
  },
  {
   "cell_type": "markdown",
   "id": "b6f1ddb7",
   "metadata": {
    "id": "Z89s7bSNYhXB"
   },
   "source": [
    "## Object classification"
   ]
  },
  {
   "cell_type": "code",
   "execution_count": null,
   "id": "77b4f926",
   "metadata": {
    "id": "f73e34f6-b86b-43f5-97d8-280c85a751c1",
    "outputId": "44aaffe2-7659-420b-b1fe-4107fa0ccbb0"
   },
   "outputs": [],
   "source": [
    "from sklearn.ensemble import RandomForestClassifier\n",
    "from gtda.diagrams import Amplitude, PersistenceEntropy\n",
    "\n",
    "entropy_results = np.array([PersistenceEntropy().fit_transform(r[None,:,:])[0] for r in results])\n",
    "amplitude_w_results = np.array([Amplitude(metric='wasserstein').fit_transform(r[None, :, :])[0] for r in results])\n",
    "amplitude_b_results = np.array([Amplitude(metric='bottleneck').fit_transform(r[None, :, :])[0] for r in results])\n",
    "\n",
    "rf_ent = RandomForestClassifier(oob_score=True, random_state=42)\n",
    "rf_ent.fit(entropy_results, labels)\n",
    "print(f\"Entropy OOB score: {rf_ent.oob_score_:.3f}\")\n",
    "\n",
    "rf_amp = RandomForestClassifier(oob_score=True, random_state=42)\n",
    "rf_amp.fit(amplitude_w_results, labels)\n",
    "print(f\"Amplitude OOB score: {rf_amp.oob_score_:.3f} using wasserstein distance\")\n",
    "\n",
    "rf_bot = RandomForestClassifier(oob_score=True, random_state=42)\n",
    "rf_bot.fit(amplitude_b_results, labels)\n",
    "print(f\"Amplitude OOB score: {rf_bot.oob_score_:.3f} using bottleneck distance\")\n",
    "\n",
    "# plot_point_cloud([p for p in zip(entropy_results, amplitude_w_results, amplitude_b_results)], color = labels)"
   ]
  },
  {
   "cell_type": "code",
   "execution_count": null,
   "id": "3883af74",
   "metadata": {
    "id": "c6b0f27f-74f6-48b0-9fd2-316deedf63e8",
    "outputId": "f302f45b-63d0-4a11-8b3f-c4cb04854a47"
   },
   "outputs": [],
   "source": [
    "import plotly.graph_objects as go\n",
    "fig = go.Figure()\n",
    "fig.add_trace(\n",
    "    go.Scatter3d(\n",
    "        mode='markers',\n",
    "        x=entropy_results[:,0],\n",
    "        y=entropy_results[:,1],\n",
    "        z=entropy_results[:,2],\n",
    "        marker=dict(\n",
    "            size=5,\n",
    "            color = labels\n",
    "        )\n",
    "    )\n",
    ")\n",
    "fig.update_layout(height=400, width=400)\n",
    "fig.show()"
   ]
  },
  {
   "cell_type": "code",
   "execution_count": null,
   "id": "dd107b43",
   "metadata": {
    "id": "42f301f1-fc58-443a-9218-6127d377d220",
    "outputId": "fc2bbce2-9a9f-49ba-bfc0-3620e8f90ab1"
   },
   "outputs": [],
   "source": [
    "import plotly.graph_objects as go\n",
    "fig = go.Figure()\n",
    "fig.add_trace(\n",
    "    go.Scatter3d(\n",
    "        mode='markers',\n",
    "        x=amplitude_w_results[:,0],\n",
    "        y=amplitude_w_results[:,1],\n",
    "        z=amplitude_w_results[:,2],\n",
    "        marker=dict(\n",
    "            size=5,\n",
    "            color = labels\n",
    "        )\n",
    "    )\n",
    ")\n",
    "fig.update_layout(height=400, width=400)\n",
    "fig.show()"
   ]
  },
  {
   "cell_type": "code",
   "execution_count": null,
   "id": "c7876db8",
   "metadata": {
    "id": "f74fc0dc-9365-439d-a26a-21b43e8f21ea",
    "outputId": "ace5778b-980b-40c5-bea1-97771936fc3d"
   },
   "outputs": [],
   "source": [
    "import plotly.graph_objects as go\n",
    "fig = go.Figure()\n",
    "fig.add_trace(\n",
    "    go.Scatter3d(\n",
    "        mode='markers',\n",
    "        x=amplitude_b_results[:,0],\n",
    "        y=amplitude_b_results[:,1],\n",
    "        z=amplitude_b_results[:,2],\n",
    "        marker=dict(\n",
    "            size=5,\n",
    "            color = labels\n",
    "        )\n",
    "    )\n",
    ")\n",
    "fig.update_layout(height=400, width=400)\n",
    "fig.show()"
   ]
  },
  {
   "cell_type": "code",
   "execution_count": null,
   "id": "39b3a3b4",
   "metadata": {
    "id": "fc8d44b1-8290-4557-ace1-52ec8bd51367"
   },
   "outputs": [],
   "source": [
    "# distance = PairwiseDistance()\n",
    "# distance_matrix = distance.fit(results)"
   ]
  },
  {
   "cell_type": "code",
   "execution_count": null,
   "id": "10ce797c",
   "metadata": {
    "id": "3e48791c-8881-4815-88e8-da3dde9b228a"
   },
   "outputs": [],
   "source": [
    "from gudhi import bottleneck_distance\n",
    "\n",
    "pairwise_distances = [\n",
    "    [bottleneck_distance([(y, z) for (x, y, z) in diag1[None,:,:][0]], [(y, z) for (x, y, z) in diag2[None,:,:][0]])\n",
    "    for diag1 in results] for diag2 in results\n",
    "]"
   ]
  },
  {
   "cell_type": "code",
   "execution_count": null,
   "id": "ae6e2178",
   "metadata": {
    "id": "3b7eac7f-9832-4039-87ed-f1c470b583af"
   },
   "outputs": [],
   "source": [
    "from gtda import plotting.plot_heatmap\n",
    "plot_heatmap()"
   ]
  },
  {
   "cell_type": "code",
   "execution_count": null,
   "id": "355245fc",
   "metadata": {
    "id": "c6c35d13-5d79-4589-89d3-1085269c7900"
   },
   "outputs": [],
   "source": [
    "from gtda.diagrams import PairwiseDistance\n",
    "\n",
    "distance = PairwiseDistance()\n",
    "distance_matrix = distance.fit(diagrams)"
   ]
  }
 ],
 "metadata": {
  "colab": {
   "collapsed_sections": [],
   "name": "ina_project.ipynb",
   "provenance": []
  },
  "interpreter": {
   "hash": "a1faa2b89841f2d81216e2b69e9280f066c9505dc0dde4939c230224824eed47"
  },
  "kernelspec": {
   "display_name": "Python 3 (ipykernel)",
   "language": "python",
   "name": "python3"
  },
  "language_info": {
   "codemirror_mode": {
    "name": "ipython",
    "version": 3
   },
   "file_extension": ".py",
   "mimetype": "text/x-python",
   "name": "python",
   "nbconvert_exporter": "python",
   "pygments_lexer": "ipython3",
   "version": "3.8.3"
  }
 },
 "nbformat": 4,
 "nbformat_minor": 5
}
